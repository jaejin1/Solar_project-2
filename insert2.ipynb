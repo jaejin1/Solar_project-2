{
 "cells": [
  {
   "cell_type": "code",
   "execution_count": null,
   "metadata": {},
   "outputs": [],
   "source": [
    "import MySQLdb\n",
    "import serial\n",
    "import numpy as np\n",
    "import pickle\n",
    "from sklearn import tree\n",
    "\n",
    " \n",
    "ser = serial.Serial('/dev/ttyACM2',115200)\n",
    "db = MySQLdb.connect(host=\"localhost\",user=\"root\",passwd=\"2580\",db=\"solar\")\n",
    "curs=db.cursor()\n",
    "\n",
    "list_pickle_path = 'model_v1.pkl'\n",
    "list_unpickle = open(list_pickle_path, 'rb')\n",
    "\n",
    "clf = pickle.load(list_unpickle)\n",
    " \n",
    "while 1:\n",
    "    text = ser.readline()\n",
    "    if \"@@@\" in text :\n",
    "        temp_in = ser.readline()\n",
    "        humi = ser.readline()\n",
    "        temp_out = ser.readline()\n",
    "        gas = ser.readline()\n",
    "        co2 = ser.readline()\n",
    "        soil_humidity = ser.readline()\n",
    "        light = ser.readline()\n",
    "        static = ser.readline()\n",
    "        \n",
    "        data = np.array([[temp_in, co2, gyro_x, gyro_y, gyro_z]])\n",
    "        prediction = clf.predict(data)\n",
    "\n",
    "        if prediction == 0:\n",
    "            safe = 'Safe'\n",
    "        elif prediction == 1:\n",
    "            safe = 'Fire'\n",
    "        else:\n",
    "            safe = 'Fallen'\n",
    "        \n",
    "        try:\n",
    "\n",
    "            sql = \"\"\"INSERT INTO field(temperature, co2, humidity,temp_in,gas,safe,soil_humidity,light,static) values (%s,%s,%s,%s,%s,%s,%s,%s,%s)\"\"\"%(temp_out,co2,humi,temp_in,gas,safe,soil_humidity,light,static)\n",
    "            curs.execute(sql)\n",
    "            db.commit()\n",
    "            print \"End db commit\"\n",
    " \n",
    "        except:\n",
    "            print \"Error: db commit\"\n",
    "            db.rollback()\n",
    "    else:\n",
    "        print text\n",
    "        print type(text)\n",
    "        print (\"@@@\" in text)\n",
    "\n"
   ]
  }
 ],
 "metadata": {
  "kernelspec": {
   "display_name": "Python 3",
   "language": "python",
   "name": "python3"
  },
  "language_info": {
   "codemirror_mode": {
    "name": "ipython",
    "version": 3
   },
   "file_extension": ".py",
   "mimetype": "text/x-python",
   "name": "python",
   "nbconvert_exporter": "python",
   "pygments_lexer": "ipython3",
   "version": "3.5.2"
  }
 },
 "nbformat": 4,
 "nbformat_minor": 2
}
