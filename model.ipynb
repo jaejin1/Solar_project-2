{
 "cells": [
  {
   "cell_type": "code",
   "execution_count": 1,
   "metadata": {},
   "outputs": [
    {
     "name": "stdout",
     "output_type": "stream",
     "text": [
      "(50, 5)\n",
      "(50,)\n"
     ]
    }
   ],
   "source": [
    "import numpy as np\n",
    "\n",
    "# 온도 , 기울기 x, 기울기 y, 기울기 z, Co2 -> 950 이하  기울기 -9 ~ 9 이외일경우 위험 온도 80도\n",
    "# 화재, 붕괴, 안전 \n",
    "\n",
    "\n",
    "\n",
    "train_data = np.array([[15.3, 849 , 3, 4, 2], # safe\n",
    "                       [20.1, 993 , 5, -2, -1],\n",
    "                       [30.5, 1023 , 8, 2, -3],\n",
    "                       [-2.3, 959 , 3, 1, 3],\n",
    "                       [1.3, 960 , -3, -4, -2],\n",
    "                       [3.6, 893 , 2, -1, 0],\n",
    "                       [10.5, 1022 , -8, 8, -8],\n",
    "                       [30.6, 999 , 3, 8, 2],\n",
    "                       [32.8, 980 , -3, -2, -8],\n",
    "                       [5.9, 1001 , 8, 8, 7],\n",
    "                       [27.2, 992 , 8, 8, -6],\n",
    "                       [16.5, 932 , 1, 3, 6],\n",
    "                       [2.9, 999 , -1, -4, -2],\n",
    "                       [6.1, 960 , 7, 9, -2],\n",
    "                       [33.1, 1080 , 4, 1, 8],\n",
    "                       [7.2, 1060 , 9, 3, 9],\n",
    "                       [23.4, 890 , -3, -8, -2],\n",
    "                       [15.6, 970 , 7, 4, 8],\n",
    "                       [29.7, 980 , 9, 2, 1],\n",
    "                       [22.1, 1000 , -8, -5, -7],\n",
    "                       \n",
    "                       [80.5, 700 , 3, 4, 2], # 화재\n",
    "                       [90.1, 840 , -2, 4, 1],\n",
    "                       [95.1, 910 , 3, 0, -6],\n",
    "                       [83.2, 900 , 8, -2, 1],\n",
    "                       [78.8, 830 , -5, 3, -7],\n",
    "                       [95.3, 860 , 2, 1, 0],\n",
    "                       [80, 790 , 3, 4, -2],\n",
    "                       [83.2, 800 , 8, 2, 1],\n",
    "                       [92.5, 810 , 7, 0, 1],\n",
    "                       [92.5, 920 , 2, 1, -1],\n",
    "                       \n",
    "                       [-10.1, 960 , -110, 5, 3], # 무너짐\n",
    "                       [-2, 1080 , 1, -11, -2],\n",
    "                       [18.3, 1000 , 4, 5, 21],\n",
    "                       [19.2, 960 , -4, -10, 2000],\n",
    "                       [-10, 977 , 36, 3, -1],\n",
    "                       [10.5, 980 , -2, 4, 21],\n",
    "                       [30.8, 950 , 20, 3, 9],\n",
    "                       [20, 999 , -10, 50, -2],\n",
    "                       [8.6, 1011 , -2, 4, 29],\n",
    "                       [2.3, 992 , 3, 42, 2],\n",
    "                       \n",
    "                       [-10.1, 960 , -110, 5, 3], # 무너짐\n",
    "                       [-2, 1080 , 10, -110, -2],\n",
    "                       [18.3, 1000 , -7, 1, 24],\n",
    "                       [19.2, 960 , 0, -100, 2],\n",
    "                       [-10, 977 , 6, 30, -1],\n",
    "                       [10.5, 980 , -3, 4, 2000],\n",
    "                       [30.8, 950 , 20, 8, 2],\n",
    "                       [20, 999 , -9, -3, -25],\n",
    "                       [8.6, 1011 , -230, 4, 2],\n",
    "                       [2.3, 992 , 3, 421, 2],\n",
    "                      ]) # 온도 , Co2 , 기울기 x, 기울기 y, 기울기 z\n",
    "\n",
    "\n",
    "#data = train_data[:,:2]\n",
    "\n",
    "#gyroscope = np.zeros(shape=(len(train_data),1))\n",
    "\n",
    "#for i in range(0, len(train_data)):\n",
    "#    gyroscope[i] = [np.mean(train_data[:,-3:][i])]\n",
    "    \n",
    "#data = np.concatenate((data, gyroscope), axis=1)\n",
    "\n",
    "\n",
    "#test_target = np.array([0,0,0,0,0,0,0,0,0,0,1,1,1,1])\n",
    "\n",
    "train_target = np.array([0,0,0,0,0,0,0,0,0,0,0,0,0,0,0,0,0,0,0,0,\n",
    "                         1,1,1,1,1,1,1,1,1,1,2,3,4,4,2,4,2,3,4,3,2,3,4,3,3,4,2,4,2,3])\n",
    "print(train_data.shape)\n",
    "print(train_target.shape)"
   ]
  },
  {
   "cell_type": "code",
   "execution_count": 2,
   "metadata": {},
   "outputs": [],
   "source": [
    "from sklearn import tree\n",
    "clf = tree.DecisionTreeClassifier()\n",
    "clf = clf.fit(train_data, train_target)"
   ]
  },
  {
   "cell_type": "code",
   "execution_count": 4,
   "metadata": {},
   "outputs": [],
   "source": [
    "import pickle\n",
    "\n",
    "# 모델 저장\n",
    "list_pickle_path = 'model_v1.pkl'\n",
    "list_pickle = open(list_pickle_path, 'wb')\n",
    "pickle.dump(clf, list_pickle)\n",
    "list_pickle.close()"
   ]
  },
  {
   "cell_type": "code",
   "execution_count": null,
   "metadata": {},
   "outputs": [],
   "source": []
  }
 ],
 "metadata": {
  "kernelspec": {
   "display_name": "Python 3",
   "language": "python",
   "name": "python3"
  },
  "language_info": {
   "codemirror_mode": {
    "name": "ipython",
    "version": 3
   },
   "file_extension": ".py",
   "mimetype": "text/x-python",
   "name": "python",
   "nbconvert_exporter": "python",
   "pygments_lexer": "ipython3",
   "version": "3.5.2"
  }
 },
 "nbformat": 4,
 "nbformat_minor": 2
}
